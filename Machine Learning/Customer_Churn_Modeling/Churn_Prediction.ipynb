{
 "cells": [
  {
   "cell_type": "markdown",
   "metadata": {},
   "source": [
    "# Machine Learning Group Project"
   ]
  },
  {
   "cell_type": "code",
   "execution_count": 1,
   "metadata": {},
   "outputs": [],
   "source": [
    "import pandas as pd\n",
    "import numpy as np\n",
    "import seaborn as sns\n",
    "%matplotlib inline\n",
    "from matplotlib import pyplot as plt\n",
    "from matplotlib import style\n",
    "\n",
    "pd.set_option('display.max_columns', 50)"
   ]
  },
  {
   "cell_type": "code",
   "execution_count": 2,
   "metadata": {},
   "outputs": [],
   "source": [
    "from lightgbm import LGBMClassifier\n",
    "import lightgbm as lgb\n",
    "from xgboost import XGBClassifier"
   ]
  },
  {
   "cell_type": "code",
   "execution_count": 3,
   "metadata": {},
   "outputs": [],
   "source": [
    "from sklearn.ensemble import GradientBoostingClassifier\n",
    "from sklearn.linear_model import SGDClassifier\n",
    "from sklearn.linear_model import LogisticRegression\n",
    "from sklearn.neural_network import MLPClassifier\n",
    "from sklearn.svm import SVC\n",
    "\n",
    "from sklearn.pipeline import make_pipeline\n",
    "from sklearn.pipeline import Pipeline\n",
    "from sklearn.model_selection import GridSearchCV\n",
    "from sklearn.model_selection import cross_validate\n",
    "from sklearn.metrics import confusion_matrix\n",
    "from sklearn.metrics import accuracy_score\n",
    "from sklearn.metrics import roc_auc_score\n",
    "\n",
    "from sklearn.impute import SimpleImputer\n",
    "from sklearn.preprocessing import OneHotEncoder\n",
    "from sklearn.preprocessing import LabelEncoder\n",
    "l = LabelEncoder()\n",
    "\n",
    "from sklearn.preprocessing import MinMaxScaler\n",
    "from sklearn.preprocessing import StandardScaler\n",
    "from sklearn.preprocessing import RobustScaler\n",
    "\n",
    "import mglearn\n",
    "from sklearn.feature_extraction.text import CountVectorizer\n",
    "from sklearn.compose import make_column_transformer"
   ]
  },
  {
   "cell_type": "code",
   "execution_count": 4,
   "metadata": {},
   "outputs": [],
   "source": [
    "df = pd.read_csv(\"./Churn_Modelling.csv\")\n",
    "df.drop(['RowNumber'], axis=1,inplace=True)\n",
    "df1 = df.copy()"
   ]
  },
  {
   "cell_type": "markdown",
   "metadata": {},
   "source": [
    "### Introduction"
   ]
  },
  {
   "cell_type": "markdown",
   "metadata": {},
   "source": [
    "The data set contains details of a bank's customers and the target variable is a binary variable reflecting the fact whether the customer left the bank (closed his account) or continues to be a customer.\n"
   ]
  },
  {
   "cell_type": "markdown",
   "metadata": {},
   "source": [
    "### First 5 rows of the dataset: "
   ]
  },
  {
   "cell_type": "code",
   "execution_count": 5,
   "metadata": {},
   "outputs": [
    {
     "data": {
      "text/html": [
       "<div>\n",
       "<style scoped>\n",
       "    .dataframe tbody tr th:only-of-type {\n",
       "        vertical-align: middle;\n",
       "    }\n",
       "\n",
       "    .dataframe tbody tr th {\n",
       "        vertical-align: top;\n",
       "    }\n",
       "\n",
       "    .dataframe thead th {\n",
       "        text-align: right;\n",
       "    }\n",
       "</style>\n",
       "<table border=\"1\" class=\"dataframe\">\n",
       "  <thead>\n",
       "    <tr style=\"text-align: right;\">\n",
       "      <th></th>\n",
       "      <th>CustomerId</th>\n",
       "      <th>Surname</th>\n",
       "      <th>CreditScore</th>\n",
       "      <th>Geography</th>\n",
       "      <th>Gender</th>\n",
       "      <th>Age</th>\n",
       "      <th>Tenure</th>\n",
       "      <th>Balance</th>\n",
       "      <th>NumOfProducts</th>\n",
       "      <th>HasCrCard</th>\n",
       "      <th>IsActiveMember</th>\n",
       "      <th>EstimatedSalary</th>\n",
       "      <th>Exited</th>\n",
       "    </tr>\n",
       "  </thead>\n",
       "  <tbody>\n",
       "    <tr>\n",
       "      <th>0</th>\n",
       "      <td>15634602</td>\n",
       "      <td>Hargrave</td>\n",
       "      <td>619</td>\n",
       "      <td>France</td>\n",
       "      <td>Female</td>\n",
       "      <td>42</td>\n",
       "      <td>2</td>\n",
       "      <td>0.00</td>\n",
       "      <td>1</td>\n",
       "      <td>1</td>\n",
       "      <td>1</td>\n",
       "      <td>101348.88</td>\n",
       "      <td>1</td>\n",
       "    </tr>\n",
       "    <tr>\n",
       "      <th>1</th>\n",
       "      <td>15647311</td>\n",
       "      <td>Hill</td>\n",
       "      <td>608</td>\n",
       "      <td>Spain</td>\n",
       "      <td>Female</td>\n",
       "      <td>41</td>\n",
       "      <td>1</td>\n",
       "      <td>83807.86</td>\n",
       "      <td>1</td>\n",
       "      <td>0</td>\n",
       "      <td>1</td>\n",
       "      <td>112542.58</td>\n",
       "      <td>0</td>\n",
       "    </tr>\n",
       "    <tr>\n",
       "      <th>2</th>\n",
       "      <td>15619304</td>\n",
       "      <td>Onio</td>\n",
       "      <td>502</td>\n",
       "      <td>France</td>\n",
       "      <td>Female</td>\n",
       "      <td>42</td>\n",
       "      <td>8</td>\n",
       "      <td>159660.80</td>\n",
       "      <td>3</td>\n",
       "      <td>1</td>\n",
       "      <td>0</td>\n",
       "      <td>113931.57</td>\n",
       "      <td>1</td>\n",
       "    </tr>\n",
       "    <tr>\n",
       "      <th>3</th>\n",
       "      <td>15701354</td>\n",
       "      <td>Boni</td>\n",
       "      <td>699</td>\n",
       "      <td>France</td>\n",
       "      <td>Female</td>\n",
       "      <td>39</td>\n",
       "      <td>1</td>\n",
       "      <td>0.00</td>\n",
       "      <td>2</td>\n",
       "      <td>0</td>\n",
       "      <td>0</td>\n",
       "      <td>93826.63</td>\n",
       "      <td>0</td>\n",
       "    </tr>\n",
       "    <tr>\n",
       "      <th>4</th>\n",
       "      <td>15737888</td>\n",
       "      <td>Mitchell</td>\n",
       "      <td>850</td>\n",
       "      <td>Spain</td>\n",
       "      <td>Female</td>\n",
       "      <td>43</td>\n",
       "      <td>2</td>\n",
       "      <td>125510.82</td>\n",
       "      <td>1</td>\n",
       "      <td>1</td>\n",
       "      <td>1</td>\n",
       "      <td>79084.10</td>\n",
       "      <td>0</td>\n",
       "    </tr>\n",
       "  </tbody>\n",
       "</table>\n",
       "</div>"
      ],
      "text/plain": [
       "   CustomerId   Surname  CreditScore Geography  Gender  Age  Tenure  \\\n",
       "0    15634602  Hargrave          619    France  Female   42       2   \n",
       "1    15647311      Hill          608     Spain  Female   41       1   \n",
       "2    15619304      Onio          502    France  Female   42       8   \n",
       "3    15701354      Boni          699    France  Female   39       1   \n",
       "4    15737888  Mitchell          850     Spain  Female   43       2   \n",
       "\n",
       "     Balance  NumOfProducts  HasCrCard  IsActiveMember  EstimatedSalary  \\\n",
       "0       0.00              1          1               1        101348.88   \n",
       "1   83807.86              1          0               1        112542.58   \n",
       "2  159660.80              3          1               0        113931.57   \n",
       "3       0.00              2          0               0         93826.63   \n",
       "4  125510.82              1          1               1         79084.10   \n",
       "\n",
       "   Exited  \n",
       "0       1  \n",
       "1       0  \n",
       "2       1  \n",
       "3       0  \n",
       "4       0  "
      ]
     },
     "execution_count": 5,
     "metadata": {},
     "output_type": "execute_result"
    }
   ],
   "source": [
    "df.head()"
   ]
  },
  {
   "cell_type": "markdown",
   "metadata": {},
   "source": [
    "### Dataset Description:"
   ]
  },
  {
   "cell_type": "markdown",
   "metadata": {},
   "source": [
    "<ul>\n",
    "<li><b>CustomerId</b>: Unique Ids for bank customer identification\n",
    "<li><b>Surname</b>: Last name of the customer \n",
    "<li><b>CreditScore</b>: Credit score of the customer\n",
    "<li><b>Geography</b>:  The country from which the customer belongs\n",
    "<li><b>Gender</b>: Gender of the customer (Male/ Female) \n",
    "<li><b>Age</b>: Age of the customer\n",
    "<li><b>Tenure</b>:Number of years for which the customer has been with the bank\n",
    "<li><b>Balance</b>:Bank balance of the customer\n",
    "<li><b>NumOfProducts</b>:Number of bank products the customer is utilising\n",
    "<li><b>HasCrCard</b>: Binary indicator showing the customer holds a credit card with the bank or not\n",
    "<li><b>IsActiveMember</b>: Binary indicator for whether the customer is an active member with the bank or not\n",
    "<li><b>EstimatedSalary</b>: Estimated salary of the customer in Dollars\n",
    "<li><b>Exited</b>: Binary indicator 1 if the customer closed account with bank and 0 if the customer is retained\n",
    "</ul>\n",
    "    "
   ]
  },
  {
   "cell_type": "markdown",
   "metadata": {},
   "source": [
    "### Basic Information of the dataset"
   ]
  },
  {
   "cell_type": "code",
   "execution_count": 6,
   "metadata": {},
   "outputs": [
    {
     "data": {
      "text/plain": [
       "Index(['CustomerId', 'Surname', 'CreditScore', 'Geography', 'Gender', 'Age',\n",
       "       'Tenure', 'Balance', 'NumOfProducts', 'HasCrCard', 'IsActiveMember',\n",
       "       'EstimatedSalary', 'Exited'],\n",
       "      dtype='object')"
      ]
     },
     "execution_count": 6,
     "metadata": {},
     "output_type": "execute_result"
    }
   ],
   "source": [
    "df.columns"
   ]
  },
  {
   "cell_type": "code",
   "execution_count": 7,
   "metadata": {},
   "outputs": [
    {
     "data": {
      "text/plain": [
       "CustomerId         0\n",
       "Surname            0\n",
       "CreditScore        0\n",
       "Geography          0\n",
       "Gender             0\n",
       "Age                0\n",
       "Tenure             0\n",
       "Balance            0\n",
       "NumOfProducts      0\n",
       "HasCrCard          0\n",
       "IsActiveMember     0\n",
       "EstimatedSalary    0\n",
       "Exited             0\n",
       "dtype: int64"
      ]
     },
     "execution_count": 7,
     "metadata": {},
     "output_type": "execute_result"
    }
   ],
   "source": [
    "df.isna().sum()"
   ]
  },
  {
   "cell_type": "markdown",
   "metadata": {},
   "source": [
    "##### Plots:"
   ]
  },
  {
   "cell_type": "code",
   "execution_count": 8,
   "metadata": {},
   "outputs": [
    {
     "data": {
      "text/plain": [
       "<matplotlib.axes._subplots.AxesSubplot at 0x7fe8699e8250>"
      ]
     },
     "execution_count": 8,
     "metadata": {},
     "output_type": "execute_result"
    },
    {
     "data": {
      "image/png": "[encoded data removed]",
      "text/plain": [
       "<Figure size 432x288 with 1 Axes>"
      ]
     },
     "metadata": {
      "needs_background": "light"
     },
     "output_type": "display_data"
    }
   ],
   "source": [
    "sns.countplot(x='Exited', data=df)"
   ]
  },
  {
   "cell_type": "code",
   "execution_count": 9,
   "metadata": {
    "scrolled": true
   },
   "outputs": [
    {
     "data": {
      "text/plain": [
       "<matplotlib.axes._subplots.AxesSubplot at 0x7fe86e9f0220>"
      ]
     },
     "execution_count": 9,
     "metadata": {},
     "output_type": "execute_result"
    },
    {
     "data": {
      "image/png": "[encoded data removed]",
      "text/plain": [
       "<Figure size 432x288 with 1 Axes>"
      ]
     },
     "metadata": {
      "needs_background": "light"
     },
     "output_type": "display_data"
    }
   ],
   "source": [
    "sns.countplot(x='Geography',hue ='Exited', data=df)"
   ]
  },
  {
   "cell_type": "markdown",
   "metadata": {},
   "source": [
    "Observation: France has the greatest proportion of customers being retained out of all other countries "
   ]
  },
  {
   "cell_type": "code",
   "execution_count": 10,
   "metadata": {},
   "outputs": [
    {
     "data": {
      "text/plain": [
       "<matplotlib.axes._subplots.AxesSubplot at 0x7fe86eb10490>"
      ]
     },
     "execution_count": 10,
     "metadata": {},
     "output_type": "execute_result"
    },
    {
     "data": {
      "image/png": "[encoded data removed]",
      "text/plain": [
       "<Figure size 432x288 with 1 Axes>"
      ]
     },
     "metadata": {
      "needs_background": "light"
     },
     "output_type": "display_data"
    }
   ],
   "source": [
    "sns.countplot(x='Gender',hue ='Exited', data=df)"
   ]
  },
  {
   "cell_type": "markdown",
   "metadata": {},
   "source": [
    "Observation: Male customers are likely to be retained compare to that of female"
   ]
  },
  {
   "cell_type": "code",
   "execution_count": 11,
   "metadata": {},
   "outputs": [
    {
     "data": {
      "text/plain": [
       "<matplotlib.axes._subplots.AxesSubplot at 0x7fe86ea96400>"
      ]
     },
     "execution_count": 11,
     "metadata": {},
     "output_type": "execute_result"
    },
    {
     "data": {
      "image/png": "[encoded data removed]",
      "text/plain": [
       "<Figure size 432x288 with 1 Axes>"
      ]
     },
     "metadata": {
      "needs_background": "light"
     },
     "output_type": "display_data"
    }
   ],
   "source": [
    "sns.countplot(x='Tenure',hue ='Exited', data=df)"
   ]
  },
  {
   "cell_type": "markdown",
   "metadata": {},
   "source": [
    "Observation: Most cutsomers have tenure between 1 to 9 year and there is no obvious pattern that the length of tenure will lead to a customer's exit."
   ]
  },
  {
   "cell_type": "code",
   "execution_count": 12,
   "metadata": {
    "scrolled": false
   },
   "outputs": [
    {
     "data": {
      "text/plain": [
       "<matplotlib.axes._subplots.AxesSubplot at 0x7fe86ec3f460>"
      ]
     },
     "execution_count": 12,
     "metadata": {},
     "output_type": "execute_result"
    },
    {
     "data": {
      "image/png": "[encoded data removed]",
      "text/plain": [
       "<Figure size 432x288 with 1 Axes>"
      ]
     },
     "metadata": {
      "needs_background": "light"
     },
     "output_type": "display_data"
    }
   ],
   "source": [
    "sns.countplot(x='NumOfProducts',hue ='Exited', data=df)"
   ]
  },
  {
   "cell_type": "markdown",
   "metadata": {},
   "source": [
    "Observation: Majority of the customers are utilising 1 to 2 products of the bank. Also, customers that are utilising 2 products are more likely to be retained than those customers who are only utilising 1 product."
   ]
  },
  {
   "cell_type": "markdown",
   "metadata": {},
   "source": [
    "##### First five rows of the dataset:"
   ]
  },
  {
   "cell_type": "code",
   "execution_count": 13,
   "metadata": {},
   "outputs": [
    {
     "data": {
      "text/html": [
       "<div>\n",
       "<style scoped>\n",
       "    .dataframe tbody tr th:only-of-type {\n",
       "        vertical-align: middle;\n",
       "    }\n",
       "\n",
       "    .dataframe tbody tr th {\n",
       "        vertical-align: top;\n",
       "    }\n",
       "\n",
       "    .dataframe thead th {\n",
       "        text-align: right;\n",
       "    }\n",
       "</style>\n",
       "<table border=\"1\" class=\"dataframe\">\n",
       "  <thead>\n",
       "    <tr style=\"text-align: right;\">\n",
       "      <th></th>\n",
       "      <th>CustomerId</th>\n",
       "      <th>Surname</th>\n",
       "      <th>CreditScore</th>\n",
       "      <th>Geography</th>\n",
       "      <th>Gender</th>\n",
       "      <th>Age</th>\n",
       "      <th>Tenure</th>\n",
       "      <th>Balance</th>\n",
       "      <th>NumOfProducts</th>\n",
       "      <th>HasCrCard</th>\n",
       "      <th>IsActiveMember</th>\n",
       "      <th>EstimatedSalary</th>\n",
       "      <th>Exited</th>\n",
       "    </tr>\n",
       "  </thead>\n",
       "  <tbody>\n",
       "    <tr>\n",
       "      <th>0</th>\n",
       "      <td>15634602</td>\n",
       "      <td>Hargrave</td>\n",
       "      <td>619</td>\n",
       "      <td>France</td>\n",
       "      <td>Female</td>\n",
       "      <td>42</td>\n",
       "      <td>2</td>\n",
       "      <td>0.00</td>\n",
       "      <td>1</td>\n",
       "      <td>1</td>\n",
       "      <td>1</td>\n",
       "      <td>101348.88</td>\n",
       "      <td>1</td>\n",
       "    </tr>\n",
       "    <tr>\n",
       "      <th>1</th>\n",
       "      <td>15647311</td>\n",
       "      <td>Hill</td>\n",
       "      <td>608</td>\n",
       "      <td>Spain</td>\n",
       "      <td>Female</td>\n",
       "      <td>41</td>\n",
       "      <td>1</td>\n",
       "      <td>83807.86</td>\n",
       "      <td>1</td>\n",
       "      <td>0</td>\n",
       "      <td>1</td>\n",
       "      <td>112542.58</td>\n",
       "      <td>0</td>\n",
       "    </tr>\n",
       "    <tr>\n",
       "      <th>2</th>\n",
       "      <td>15619304</td>\n",
       "      <td>Onio</td>\n",
       "      <td>502</td>\n",
       "      <td>France</td>\n",
       "      <td>Female</td>\n",
       "      <td>42</td>\n",
       "      <td>8</td>\n",
       "      <td>159660.80</td>\n",
       "      <td>3</td>\n",
       "      <td>1</td>\n",
       "      <td>0</td>\n",
       "      <td>113931.57</td>\n",
       "      <td>1</td>\n",
       "    </tr>\n",
       "    <tr>\n",
       "      <th>3</th>\n",
       "      <td>15701354</td>\n",
       "      <td>Boni</td>\n",
       "      <td>699</td>\n",
       "      <td>France</td>\n",
       "      <td>Female</td>\n",
       "      <td>39</td>\n",
       "      <td>1</td>\n",
       "      <td>0.00</td>\n",
       "      <td>2</td>\n",
       "      <td>0</td>\n",
       "      <td>0</td>\n",
       "      <td>93826.63</td>\n",
       "      <td>0</td>\n",
       "    </tr>\n",
       "    <tr>\n",
       "      <th>4</th>\n",
       "      <td>15737888</td>\n",
       "      <td>Mitchell</td>\n",
       "      <td>850</td>\n",
       "      <td>Spain</td>\n",
       "      <td>Female</td>\n",
       "      <td>43</td>\n",
       "      <td>2</td>\n",
       "      <td>125510.82</td>\n",
       "      <td>1</td>\n",
       "      <td>1</td>\n",
       "      <td>1</td>\n",
       "      <td>79084.10</td>\n",
       "      <td>0</td>\n",
       "    </tr>\n",
       "  </tbody>\n",
       "</table>\n",
       "</div>"
      ],
      "text/plain": [
       "   CustomerId   Surname  CreditScore Geography  Gender  Age  Tenure  \\\n",
       "0    15634602  Hargrave          619    France  Female   42       2   \n",
       "1    15647311      Hill          608     Spain  Female   41       1   \n",
       "2    15619304      Onio          502    France  Female   42       8   \n",
       "3    15701354      Boni          699    France  Female   39       1   \n",
       "4    15737888  Mitchell          850     Spain  Female   43       2   \n",
       "\n",
       "     Balance  NumOfProducts  HasCrCard  IsActiveMember  EstimatedSalary  \\\n",
       "0       0.00              1          1               1        101348.88   \n",
       "1   83807.86              1          0               1        112542.58   \n",
       "2  159660.80              3          1               0        113931.57   \n",
       "3       0.00              2          0               0         93826.63   \n",
       "4  125510.82              1          1               1         79084.10   \n",
       "\n",
       "   Exited  \n",
       "0       1  \n",
       "1       0  \n",
       "2       1  \n",
       "3       0  \n",
       "4       0  "
      ]
     },
     "execution_count": 13,
     "metadata": {},
     "output_type": "execute_result"
    }
   ],
   "source": [
    "df.head()"
   ]
  },
  {
   "cell_type": "markdown",
   "metadata": {},
   "source": [
    "##### Drop all the columns that are not useful"
   ]
  },
  {
   "cell_type": "code",
   "execution_count": 14,
   "metadata": {},
   "outputs": [],
   "source": [
    "df.drop(columns=['CustomerId','Surname'], inplace=True)"
   ]
  },
  {
   "cell_type": "markdown",
   "metadata": {},
   "source": [
    "##### Get dummies for categorical variables"
   ]
  },
  {
   "cell_type": "code",
   "execution_count": 15,
   "metadata": {},
   "outputs": [],
   "source": [
    "df=pd.get_dummies(data=df,columns=['Gender','Geography','HasCrCard','IsActiveMember'])"
   ]
  },
  {
   "cell_type": "markdown",
   "metadata": {},
   "source": [
    "### Machine Learning Models "
   ]
  },
  {
   "cell_type": "markdown",
   "metadata": {},
   "source": [
    "### in list form, what models did we use"
   ]
  },
  {
   "cell_type": "code",
   "execution_count": 16,
   "metadata": {},
   "outputs": [],
   "source": [
    "y = df['Exited']\n",
    "X = df.drop(columns='Exited')"
   ]
  },
  {
   "cell_type": "markdown",
   "metadata": {},
   "source": [
    "##### Split the data into train set and test set"
   ]
  },
  {
   "cell_type": "code",
   "execution_count": 17,
   "metadata": {},
   "outputs": [],
   "source": [
    "from sklearn.model_selection import train_test_split\n",
    "\n",
    "X_train, X_test, y_train, y_test = train_test_split(X, y, stratify=y, test_size = 0.2, random_state=3)"
   ]
  },
  {
   "cell_type": "markdown",
   "metadata": {},
   "source": [
    "##### Balance the data using over-sampling"
   ]
  },
  {
   "cell_type": "code",
   "execution_count": 18,
   "metadata": {},
   "outputs": [],
   "source": [
    "from imblearn.over_sampling import SMOTE\n",
    "sm = SMOTE()"
   ]
  },
  {
   "cell_type": "code",
   "execution_count": 19,
   "metadata": {},
   "outputs": [],
   "source": [
    "X_train_res, y_train_res = sm.fit_resample(X_train, y_train)"
   ]
  },
  {
   "cell_type": "markdown",
   "metadata": {},
   "source": [
    "##### Generate pipe for numerical columns"
   ]
  },
  {
   "cell_type": "code",
   "execution_count": 20,
   "metadata": {},
   "outputs": [],
   "source": [
    "col_num = ['Age', 'Tenure','NumOfProducts','CreditScore','Balance','EstimatedSalary']"
   ]
  },
  {
   "cell_type": "code",
   "execution_count": 21,
   "metadata": {},
   "outputs": [
    {
     "name": "stdout",
     "output_type": "stream",
     "text": [
      "Accuracy score of the Pipeline is 0.74\n"
     ]
    }
   ],
   "source": [
    "pipe_num = make_pipeline(SimpleImputer(strategy='mean'), StandardScaler())\n",
    "preprocessor = make_column_transformer((pipe_num, col_num))\n",
    "\n",
    "\n",
    "pipe = Pipeline([('preprocessing', preprocessor), ('classifier', SVC())])\n",
    "\n",
    "pipe.fit(X_train_res, y_train_res)\n",
    "accuracy = pipe.score(X_test, y_test)\n",
    "print('Accuracy score of the {} is {:.2f}'.format(pipe.__class__.__name__, accuracy))"
   ]
  },
  {
   "cell_type": "markdown",
   "metadata": {},
   "source": [
    "#### Logistics Regression"
   ]
  },
  {
   "cell_type": "markdown",
   "metadata": {},
   "source": [
    "Tuning parameters in Logistic Regression"
   ]
  },
  {
   "cell_type": "code",
   "execution_count": 22,
   "metadata": {},
   "outputs": [
    {
     "name": "stdout",
     "output_type": "stream",
     "text": [
      "Best params:\n",
      "{'logisticregression__C': 0.01, 'logisticregression__penalty': 'l1'}\n",
      "\n",
      "Best cross-validation score: 0.76141\n",
      "Test-set score: 0.72837\n"
     ]
    }
   ],
   "source": [
    "pipe_log = make_pipeline(preprocessor,\n",
    "                     LogisticRegression(solver='saga', multi_class='auto',\n",
    "                                        random_state=42, max_iter=5000))\n",
    "param_grid = {'logisticregression__C': [0.0001,0.001, 0.01, 0.1, 1, 10],\n",
    "              'logisticregression__penalty': ['l1', 'l2']}\n",
    "grid_log = GridSearchCV(pipe_log, param_grid=param_grid,scoring='roc_auc', cv=5, n_jobs=-1, return_train_score=True)\n",
    "grid_log.fit(X_train_res, y_train_res)\n",
    "print(\"Best params:\\n{}\\n\".format(grid_log.best_params_))\n",
    "print(\"Best cross-validation score: {:.5f}\".format(grid_log.best_score_))\n",
    "print(\"Test-set score: {:.5f}\".format(grid_log.score(X_test, y_test)))"
   ]
  },
  {
   "cell_type": "markdown",
   "metadata": {},
   "source": [
    "Heatmap showing the best combination of the above params. Going forward we wanted to study the impact of changing C and penalty. So, we plotted the heat map of penalty versus C. Increasing or decreasing either of them decreases the test set score. We get the best test score for C = 0.01 and L1 penalty"
   ]
  },
  {
   "cell_type": "code",
   "execution_count": 23,
   "metadata": {
    "scrolled": true
   },
   "outputs": [
    {
     "data": {
      "image/png": "[encoded data removed]",
      "text/plain": [
       "<Figure size 432x288 with 1 Axes>"
      ]
     },
     "metadata": {
      "needs_background": "light"
     },
     "output_type": "display_data"
    }
   ],
   "source": [
    "df_grid_log = pd.DataFrame(grid_log.cv_results_)\n",
    "scores = np.array(df_grid_log.mean_test_score).reshape(2, 6)\n",
    "mglearn.tools.heatmap(scores, xlabel='C', xticklabels=param_grid['logisticregression__C'],\n",
    "                      ylabel='Penalty', yticklabels=param_grid['logisticregression__penalty'], fmt = '%0.5f',cmap=\"viridis\")\n",
    "plt.tight_layout()"
   ]
  },
  {
   "cell_type": "code",
   "execution_count": 24,
   "metadata": {},
   "outputs": [],
   "source": [
    "y_pred = grid_log.predict(X_test)\n",
    "cm = confusion_matrix(y_test, y_pred)\n",
    "accuracy=accuracy_score(y_test,y_pred)"
   ]
  },
  {
   "cell_type": "code",
   "execution_count": 25,
   "metadata": {},
   "outputs": [
    {
     "data": {
      "text/plain": [
       "0.6955"
      ]
     },
     "execution_count": 25,
     "metadata": {},
     "output_type": "execute_result"
    }
   ],
   "source": [
    "accuracy"
   ]
  },
  {
   "cell_type": "markdown",
   "metadata": {},
   "source": [
    "The below figure shows the boxplot for the complete data set based on cross validation score. \n",
    "When cross validated against the whole dataset, we received the training and test score as shown below. The box plot shows the distribution of scores, the training score mostly lies around 0.74, whereas the test score lies between 0.735 - 0.745. The train scores and test scores have about similar scores "
   ]
  },
  {
   "cell_type": "code",
   "execution_count": 26,
   "metadata": {
    "scrolled": false
   },
   "outputs": [
    {
     "data": {
      "text/plain": [
       "<AxesSubplot:>"
      ]
     },
     "execution_count": 26,
     "metadata": {},
     "output_type": "execute_result"
    },
    {
     "data": {
      "image/png": "[encoded data removed]",
      "text/plain": [
       "<Figure size 432x288 with 1 Axes>"
      ]
     },
     "metadata": {
      "needs_background": "light"
     },
     "output_type": "display_data"
    }
   ],
   "source": [
    "df_scores_LR = cross_validate(grid_log, X, y, scoring='roc_auc', cv=5, return_train_score=True)\n",
    "df_scores_LR = pd.DataFrame(df_scores_LR)\n",
    "df_scores_LR[['train_score', 'test_score']].boxplot()"
   ]
  },
  {
   "cell_type": "code",
   "execution_count": 27,
   "metadata": {},
   "outputs": [
    {
     "data": {
      "text/html": [
       "<div>\n",
       "<style scoped>\n",
       "    .dataframe tbody tr th:only-of-type {\n",
       "        vertical-align: middle;\n",
       "    }\n",
       "\n",
       "    .dataframe tbody tr th {\n",
       "        vertical-align: top;\n",
       "    }\n",
       "\n",
       "    .dataframe thead th {\n",
       "        text-align: right;\n",
       "    }\n",
       "</style>\n",
       "<table border=\"1\" class=\"dataframe\">\n",
       "  <thead>\n",
       "    <tr style=\"text-align: right;\">\n",
       "      <th></th>\n",
       "      <th>train_score</th>\n",
       "      <th>test_score</th>\n",
       "    </tr>\n",
       "  </thead>\n",
       "  <tbody>\n",
       "    <tr>\n",
       "      <th>0</th>\n",
       "      <td>0.741169</td>\n",
       "      <td>0.735608</td>\n",
       "    </tr>\n",
       "    <tr>\n",
       "      <th>1</th>\n",
       "      <td>0.740143</td>\n",
       "      <td>0.736083</td>\n",
       "    </tr>\n",
       "    <tr>\n",
       "      <th>2</th>\n",
       "      <td>0.738230</td>\n",
       "      <td>0.745367</td>\n",
       "    </tr>\n",
       "    <tr>\n",
       "      <th>3</th>\n",
       "      <td>0.738122</td>\n",
       "      <td>0.750482</td>\n",
       "    </tr>\n",
       "    <tr>\n",
       "      <th>4</th>\n",
       "      <td>0.742781</td>\n",
       "      <td>0.730907</td>\n",
       "    </tr>\n",
       "  </tbody>\n",
       "</table>\n",
       "</div>"
      ],
      "text/plain": [
       "   train_score  test_score\n",
       "0     0.741169    0.735608\n",
       "1     0.740143    0.736083\n",
       "2     0.738230    0.745367\n",
       "3     0.738122    0.750482\n",
       "4     0.742781    0.730907"
      ]
     },
     "execution_count": 27,
     "metadata": {},
     "output_type": "execute_result"
    }
   ],
   "source": [
    "df_scores_LR[['train_score', 'test_score']]"
   ]
  },
  {
   "cell_type": "markdown",
   "metadata": {},
   "source": [
    "#### SGD Classifier"
   ]
  },
  {
   "cell_type": "markdown",
   "metadata": {},
   "source": [
    "Tuning parameters in SGD Regression"
   ]
  },
  {
   "cell_type": "code",
   "execution_count": 28,
   "metadata": {},
   "outputs": [
    {
     "name": "stdout",
     "output_type": "stream",
     "text": [
      "Best params:\n",
      "{'classifier': SGDClassifier(alpha=8.5e-06, penalty='l1', random_state=3), 'classifier__alpha': 8.5e-06, 'classifier__penalty': 'l1'}\n",
      "\n",
      "Best cross-validation score: 0.73996\n",
      "Test-set score: 0.66560\n"
     ]
    }
   ],
   "source": [
    "param_grid_SGD = {\n",
    "    'classifier': [SGDClassifier(max_iter=1000, random_state=3)],\n",
    "     'classifier__penalty': ['l1', 'l2','elasticnet'],\n",
    "     'classifier__alpha': [0.00001, 0.0000095, 0.000009,0.0000085,0.000008]}\n",
    "grid_SGD = GridSearchCV(pipe, param_grid=param_grid_SGD,scoring ='roc_auc', cv=5, n_jobs=-1)\n",
    "grid_SGD.fit(X_train_res, y_train_res)\n",
    "print(\"Best params:\\n{}\\n\".format(grid_SGD.best_params_))\n",
    "print(\"Best cross-validation score: {:.5f}\".format(grid_SGD.best_score_))\n",
    "print(\"Test-set score: {:.5f}\".format(grid_SGD.score(X_test, y_test)))"
   ]
  },
  {
   "cell_type": "markdown",
   "metadata": {},
   "source": [
    "Heatmap showing the best combination of the above params. Going forward we wanted to study the impact of changing alpha and penalty. So, we plotted the heat map of penalty versus alpha. Increasing or decreasing either of them decreases the test set score. We get the best test score for alpha = 0.000085 and L1 penalty"
   ]
  },
  {
   "cell_type": "code",
   "execution_count": 143,
   "metadata": {},
   "outputs": [
    {
     "data": {
      "image/png": "[encoded data removed]",
      "text/plain": [
       "<Figure size 432x288 with 1 Axes>"
      ]
     },
     "metadata": {
      "needs_background": "light"
     },
     "output_type": "display_data"
    }
   ],
   "source": [
    "df_grid_SGD = pd.DataFrame(grid_SGD.cv_results_)\n",
    "scores = np.array(df_grid_SGD.mean_test_score).reshape(5, 3)\n",
    "mglearn.tools.heatmap(scores, xlabel='penalty', xticklabels=param_grid_SGD['classifier__penalty'],\n",
    "                      ylabel='alpha', yticklabels=param_grid_SGD['classifier__alpha'], fmt = '%0.5f',cmap=\"viridis\")\n",
    "plt.tight_layout()"
   ]
  },
  {
   "cell_type": "code",
   "execution_count": 30,
   "metadata": {},
   "outputs": [],
   "source": [
    "y_pred = grid_SGD.predict(X_test)\n",
    "cm = confusion_matrix(y_test, y_pred)\n",
    "accuracy=accuracy_score(y_test,y_pred)"
   ]
  },
  {
   "cell_type": "code",
   "execution_count": 31,
   "metadata": {},
   "outputs": [
    {
     "data": {
      "text/plain": [
       "0.565"
      ]
     },
     "execution_count": 31,
     "metadata": {},
     "output_type": "execute_result"
    }
   ],
   "source": [
    "accuracy"
   ]
  },
  {
   "cell_type": "markdown",
   "metadata": {},
   "source": [
    "The below figure shows the boxplot for the complete data set based on cross validation score. \n",
    "When cross validated against the whole dataset, we received the training and test score as shown below. The box plot shows the distribution of scores, the training score mostly lies around 0.705 - 0.735, whereas the test score lies between 0.705 - 0.725. The train scores and test scores have about similar scores "
   ]
  },
  {
   "cell_type": "code",
   "execution_count": 32,
   "metadata": {},
   "outputs": [
    {
     "data": {
      "text/plain": [
       "<matplotlib.axes._subplots.AxesSubplot at 0x7f7ccca17400>"
      ]
     },
     "execution_count": 32,
     "metadata": {},
     "output_type": "execute_result"
    },
    {
     "data": {
      "image/png": "[encoded data removed]",
      "text/plain": [
       "<Figure size 432x288 with 1 Axes>"
      ]
     },
     "metadata": {
      "needs_background": "light"
     },
     "output_type": "display_data"
    }
   ],
   "source": [
    "df_scores_SGD = cross_validate(grid_SGD, X, y, scoring='roc_auc', cv=5, return_train_score=True)\n",
    "df_scores_SGD = pd.DataFrame(df_scores_SGD)\n",
    "df_scores_SGD[['train_score', 'test_score']].boxplot()"
   ]
  },
  {
   "cell_type": "code",
   "execution_count": 33,
   "metadata": {},
   "outputs": [
    {
     "data": {
      "text/html": [
       "<div>\n",
       "<style scoped>\n",
       "    .dataframe tbody tr th:only-of-type {\n",
       "        vertical-align: middle;\n",
       "    }\n",
       "\n",
       "    .dataframe tbody tr th {\n",
       "        vertical-align: top;\n",
       "    }\n",
       "\n",
       "    .dataframe thead th {\n",
       "        text-align: right;\n",
       "    }\n",
       "</style>\n",
       "<table border=\"1\" class=\"dataframe\">\n",
       "  <thead>\n",
       "    <tr style=\"text-align: right;\">\n",
       "      <th></th>\n",
       "      <th>train_score</th>\n",
       "      <th>test_score</th>\n",
       "    </tr>\n",
       "  </thead>\n",
       "  <tbody>\n",
       "    <tr>\n",
       "      <th>0</th>\n",
       "      <td>0.703287</td>\n",
       "      <td>0.704267</td>\n",
       "    </tr>\n",
       "    <tr>\n",
       "      <th>1</th>\n",
       "      <td>0.738555</td>\n",
       "      <td>0.733703</td>\n",
       "    </tr>\n",
       "    <tr>\n",
       "      <th>2</th>\n",
       "      <td>0.657977</td>\n",
       "      <td>0.670683</td>\n",
       "    </tr>\n",
       "    <tr>\n",
       "      <th>3</th>\n",
       "      <td>0.717104</td>\n",
       "      <td>0.723463</td>\n",
       "    </tr>\n",
       "    <tr>\n",
       "      <th>4</th>\n",
       "      <td>0.735310</td>\n",
       "      <td>0.719191</td>\n",
       "    </tr>\n",
       "  </tbody>\n",
       "</table>\n",
       "</div>"
      ],
      "text/plain": [
       "   train_score  test_score\n",
       "0     0.703287    0.704267\n",
       "1     0.738555    0.733703\n",
       "2     0.657977    0.670683\n",
       "3     0.717104    0.723463\n",
       "4     0.735310    0.719191"
      ]
     },
     "execution_count": 33,
     "metadata": {},
     "output_type": "execute_result"
    }
   ],
   "source": [
    "df_scores_SGD[['train_score', 'test_score']]"
   ]
  },
  {
   "cell_type": "markdown",
   "metadata": {},
   "source": [
    "##### Gradient Boosting Classifier"
   ]
  },
  {
   "cell_type": "markdown",
   "metadata": {},
   "source": [
    "Tuning parameters in Gradient Boosting Classifier"
   ]
  },
  {
   "cell_type": "code",
   "execution_count": 119,
   "metadata": {},
   "outputs": [
    {
     "name": "stdout",
     "output_type": "stream",
     "text": [
      "Best params:\n",
      "{'classifier': GradientBoostingClassifier(max_depth=4, n_estimators=30, random_state=3), 'classifier__max_depth': 4, 'classifier__n_estimators': 30}\n",
      "\n",
      "Best cross-validation score: 0.83344\n",
      "Test-set score: 0.83098\n"
     ]
    }
   ],
   "source": [
    "param_grid_GB = {'classifier': [GradientBoostingClassifier(random_state=3)],\n",
    "      'classifier__n_estimators': [20,30,40,50,60], 'classifier__max_depth': [2,3,4,5,6]}\n",
    "grid_GB = GridSearchCV(pipe, param_grid=param_grid_GB, scoring = 'roc_auc',cv=5, n_jobs=-1, return_train_score=True)\n",
    "grid_GB.fit(X_train, y_train)\n",
    "print(\"Best params:\\n{}\\n\".format(grid_GB.best_params_))\n",
    "print(\"Best cross-validation score: {:.5f}\".format(grid_GB.best_score_))\n",
    "print(\"Test-set score: {:.5f}\".format(grid_GB.score(X_test, y_test)))"
   ]
  },
  {
   "cell_type": "markdown",
   "metadata": {},
   "source": [
    "Heatmap showing the best combination of the above params. Going forward we wanted to study the impact of changing depth and number of estimator. So, we plotted the heat map of depth versus number of estimators. Increasing or decreasing either of them decreases the test set score. We get the best test score for depth = 4 and estimators = 30"
   ]
  },
  {
   "cell_type": "code",
   "execution_count": 120,
   "metadata": {},
   "outputs": [
    {
     "data": {
      "image/png": "[encoded data removed]",
      "text/plain": [
       "<Figure size 432x288 with 1 Axes>"
      ]
     },
     "metadata": {
      "needs_background": "light"
     },
     "output_type": "display_data"
    }
   ],
   "source": [
    "df_grid_GB = pd.DataFrame(grid_GB.cv_results_)\n",
    "scores = np.array(df_grid_GB.mean_test_score).reshape(5, 5)\n",
    "mglearn.tools.heatmap(scores, xlabel='Estimators', xticklabels=param_grid_GB['classifier__n_estimators'],\n",
    "                      ylabel='Depth', yticklabels=param_grid_GB['classifier__max_depth'], fmt = '%0.5f',cmap=\"viridis\")\n",
    "plt.tight_layout()"
   ]
  },
  {
   "cell_type": "code",
   "execution_count": 121,
   "metadata": {},
   "outputs": [],
   "source": [
    "y_pred = grid_GB.predict(X_test)\n",
    "cm = confusion_matrix(y_test, y_pred)\n",
    "accuracy=accuracy_score(y_test,y_pred)"
   ]
  },
  {
   "cell_type": "code",
   "execution_count": 122,
   "metadata": {},
   "outputs": [
    {
     "data": {
      "text/plain": [
       "0.8295"
      ]
     },
     "execution_count": 122,
     "metadata": {},
     "output_type": "execute_result"
    }
   ],
   "source": [
    "accuracy"
   ]
  },
  {
   "cell_type": "markdown",
   "metadata": {},
   "source": [
    "The below figure shows the boxplot for the complete data set based on cross validation score. \n",
    "When cross validated against the whole dataset, we received the training and test score as shown below. The box plot shows the distribution of scores, the training score mostly lies around 0.85 - 0.855, whereas the test score lies between 0.835. The train scores and test scores have about similar scores "
   ]
  },
  {
   "cell_type": "code",
   "execution_count": 123,
   "metadata": {},
   "outputs": [
    {
     "data": {
      "text/plain": [
       "<matplotlib.axes._subplots.AxesSubplot at 0x7f7ccc28fa58>"
      ]
     },
     "execution_count": 123,
     "metadata": {},
     "output_type": "execute_result"
    },
    {
     "data": {
      "image/png": "[encoded data removed]",
      "text/plain": [
       "<Figure size 432x288 with 1 Axes>"
      ]
     },
     "metadata": {
      "needs_background": "light"
     },
     "output_type": "display_data"
    }
   ],
   "source": [
    "df_scores_GB = cross_validate(grid_GB, X, y, scoring='roc_auc', cv=5, return_train_score=True)\n",
    "df_scores_GB = pd.DataFrame(df_scores_GB)\n",
    "df_scores_GB[['train_score', 'test_score']].boxplot()"
   ]
  },
  {
   "cell_type": "code",
   "execution_count": 124,
   "metadata": {},
   "outputs": [
    {
     "data": {
      "text/html": [
       "<div>\n",
       "<style scoped>\n",
       "    .dataframe tbody tr th:only-of-type {\n",
       "        vertical-align: middle;\n",
       "    }\n",
       "\n",
       "    .dataframe tbody tr th {\n",
       "        vertical-align: top;\n",
       "    }\n",
       "\n",
       "    .dataframe thead th {\n",
       "        text-align: right;\n",
       "    }\n",
       "</style>\n",
       "<table border=\"1\" class=\"dataframe\">\n",
       "  <thead>\n",
       "    <tr style=\"text-align: right;\">\n",
       "      <th></th>\n",
       "      <th>train_score</th>\n",
       "      <th>test_score</th>\n",
       "    </tr>\n",
       "  </thead>\n",
       "  <tbody>\n",
       "    <tr>\n",
       "      <th>0</th>\n",
       "      <td>0.849585</td>\n",
       "      <td>0.832851</td>\n",
       "    </tr>\n",
       "    <tr>\n",
       "      <th>1</th>\n",
       "      <td>0.856439</td>\n",
       "      <td>0.833975</td>\n",
       "    </tr>\n",
       "    <tr>\n",
       "      <th>2</th>\n",
       "      <td>0.862988</td>\n",
       "      <td>0.832684</td>\n",
       "    </tr>\n",
       "    <tr>\n",
       "      <th>3</th>\n",
       "      <td>0.848978</td>\n",
       "      <td>0.836537</td>\n",
       "    </tr>\n",
       "    <tr>\n",
       "      <th>4</th>\n",
       "      <td>0.845937</td>\n",
       "      <td>0.831092</td>\n",
       "    </tr>\n",
       "  </tbody>\n",
       "</table>\n",
       "</div>"
      ],
      "text/plain": [
       "   train_score  test_score\n",
       "0     0.849585    0.832851\n",
       "1     0.856439    0.833975\n",
       "2     0.862988    0.832684\n",
       "3     0.848978    0.836537\n",
       "4     0.845937    0.831092"
      ]
     },
     "execution_count": 124,
     "metadata": {},
     "output_type": "execute_result"
    }
   ],
   "source": [
    "df_scores_GB[['train_score', 'test_score']]"
   ]
  },
  {
   "cell_type": "markdown",
   "metadata": {},
   "source": [
    "#### SVM"
   ]
  },
  {
   "cell_type": "markdown",
   "metadata": {},
   "source": [
    "Tuning parameters in SVM"
   ]
  },
  {
   "cell_type": "code",
   "execution_count": 146,
   "metadata": {},
   "outputs": [
    {
     "name": "stdout",
     "output_type": "stream",
     "text": [
      "Best params:\n",
      "{'classifier': SVC(C=0.01, gamma=10, random_state=3), 'classifier__C': 0.01, 'classifier__gamma': 10}\n",
      "\n",
      "Best cross-validation score: 0.85270\n",
      "Test-set score: 0.70964\n"
     ]
    }
   ],
   "source": [
    "param_grid_SVM = {'classifier': [SVC(random_state=3)],\n",
    "     'classifier__gamma': [0.1,1,10],\n",
    "     'classifier__C': [0.01,0.1,1]}\n",
    "grid_SVM = GridSearchCV(pipe, param_grid=param_grid_SVM,scoring='roc_auc', cv=5, n_jobs=-1, return_train_score=True)\n",
    "grid_SVM.fit(X_train_res, y_train_res)\n",
    "print(\"Best params:\\n{}\\n\".format(grid_SVM.best_params_))\n",
    "print(\"Best cross-validation score: {:.5f}\".format(grid_SVM.best_score_))\n",
    "print(\"Test-set score: {:.5f}\".format(grid_SVM.score(X_test, y_test)))"
   ]
  },
  {
   "cell_type": "markdown",
   "metadata": {},
   "source": [
    "Heatmap showing the best combination of the above params. Going forward we wanted to study the impact of changing C and gamma. So, we plotted the heat map of C versus gamma. Increasing or decreasing either of them decreases the test set score. We get the best test score for C = 0.1 and gamma = 10"
   ]
  },
  {
   "cell_type": "code",
   "execution_count": 147,
   "metadata": {},
   "outputs": [
    {
     "data": {
      "image/png": "[encoded data removed]",
      "text/plain": [
       "<Figure size 432x288 with 1 Axes>"
      ]
     },
     "metadata": {
      "needs_background": "light"
     },
     "output_type": "display_data"
    }
   ],
   "source": [
    "df_grid_SVM = pd.DataFrame(grid_SVM.cv_results_)\n",
    "scores = np.array(df_grid_SVM.mean_test_score).reshape(3, 3)\n",
    "mglearn.tools.heatmap(scores, xlabel='Gamma', xticklabels=param_grid_SVM['classifier__gamma'],\n",
    "                      ylabel='C', yticklabels=param_grid_SVM['classifier__C'], fmt = '%0.3f',cmap=\"viridis\")\n",
    "plt.tight_layout()"
   ]
  },
  {
   "cell_type": "code",
   "execution_count": 148,
   "metadata": {},
   "outputs": [],
   "source": [
    "y_pred = grid_SVM.predict(X_test)\n",
    "cm = confusion_matrix(y_test, y_pred)\n",
    "accuracy=accuracy_score(y_test,y_pred)"
   ]
  },
  {
   "cell_type": "code",
   "execution_count": 149,
   "metadata": {},
   "outputs": [
    {
     "data": {
      "text/plain": [
       "0.764"
      ]
     },
     "execution_count": 149,
     "metadata": {},
     "output_type": "execute_result"
    }
   ],
   "source": [
    "accuracy"
   ]
  },
  {
   "cell_type": "markdown",
   "metadata": {},
   "source": [
    "The below figure shows the boxplot for the complete data set based on cross validation score. \n",
    "When cross validated against the whole dataset, we received the training and test score as shown below. The box plot shows the distribution of scores, the training score mostly lies around 0.805 - 0.81, whereas the test score lies between 0.79 and 0.795. The train scores and test scores have about similar scores "
   ]
  },
  {
   "cell_type": "code",
   "execution_count": 150,
   "metadata": {},
   "outputs": [
    {
     "data": {
      "text/plain": [
       "<matplotlib.axes._subplots.AxesSubplot at 0x7f7ccc4df0b8>"
      ]
     },
     "execution_count": 150,
     "metadata": {},
     "output_type": "execute_result"
    },
    {
     "data": {
      "image/png": "[encoded data removed]",
      "text/plain": [
       "<Figure size 432x288 with 1 Axes>"
      ]
     },
     "metadata": {
      "needs_background": "light"
     },
     "output_type": "display_data"
    }
   ],
   "source": [
    "df_scores_SVM = cross_validate(grid_SVM, X, y, scoring='roc_auc', cv=5, return_train_score=True)\n",
    "df_scores_SVM = pd.DataFrame(df_scores_SVM)\n",
    "df_scores_SVM[['train_score', 'test_score']].boxplot()"
   ]
  },
  {
   "cell_type": "code",
   "execution_count": 151,
   "metadata": {},
   "outputs": [
    {
     "data": {
      "text/html": [
       "<div>\n",
       "<style scoped>\n",
       "    .dataframe tbody tr th:only-of-type {\n",
       "        vertical-align: middle;\n",
       "    }\n",
       "\n",
       "    .dataframe tbody tr th {\n",
       "        vertical-align: top;\n",
       "    }\n",
       "\n",
       "    .dataframe thead th {\n",
       "        text-align: right;\n",
       "    }\n",
       "</style>\n",
       "<table border=\"1\" class=\"dataframe\">\n",
       "  <thead>\n",
       "    <tr style=\"text-align: right;\">\n",
       "      <th></th>\n",
       "      <th>train_score</th>\n",
       "      <th>test_score</th>\n",
       "    </tr>\n",
       "  </thead>\n",
       "  <tbody>\n",
       "    <tr>\n",
       "      <th>0</th>\n",
       "      <td>0.810597</td>\n",
       "      <td>0.778188</td>\n",
       "    </tr>\n",
       "    <tr>\n",
       "      <th>1</th>\n",
       "      <td>0.806846</td>\n",
       "      <td>0.788243</td>\n",
       "    </tr>\n",
       "    <tr>\n",
       "      <th>2</th>\n",
       "      <td>0.804490</td>\n",
       "      <td>0.802067</td>\n",
       "    </tr>\n",
       "    <tr>\n",
       "      <th>3</th>\n",
       "      <td>0.809428</td>\n",
       "      <td>0.789245</td>\n",
       "    </tr>\n",
       "    <tr>\n",
       "      <th>4</th>\n",
       "      <td>0.804374</td>\n",
       "      <td>0.794394</td>\n",
       "    </tr>\n",
       "  </tbody>\n",
       "</table>\n",
       "</div>"
      ],
      "text/plain": [
       "   train_score  test_score\n",
       "0     0.810597    0.778188\n",
       "1     0.806846    0.788243\n",
       "2     0.804490    0.802067\n",
       "3     0.809428    0.789245\n",
       "4     0.804374    0.794394"
      ]
     },
     "execution_count": 151,
     "metadata": {},
     "output_type": "execute_result"
    }
   ],
   "source": [
    "df_scores_SVM[['train_score', 'test_score']]"
   ]
  },
  {
   "cell_type": "markdown",
   "metadata": {},
   "source": [
    "##### MLP Classifier"
   ]
  },
  {
   "cell_type": "markdown",
   "metadata": {},
   "source": [
    "Tuning parameters in MLP"
   ]
  },
  {
   "cell_type": "code",
   "execution_count": 37,
   "metadata": {},
   "outputs": [
    {
     "name": "stdout",
     "output_type": "stream",
     "text": [
      "Best params:\n",
      "{'classifier': MLPClassifier(alpha=0.05, hidden_layer_sizes=(10,), max_iter=1000,\n",
      "              random_state=3), 'classifier__activation': 'relu', 'classifier__alpha': 0.05, 'classifier__hidden_layer_sizes': (10,), 'classifier__learning_rate': 'constant', 'classifier__solver': 'adam'}\n",
      "\n",
      "Best cross-validation score: 0.84560\n",
      "Test-set score: 0.81812\n"
     ]
    }
   ],
   "source": [
    "param_grid_MLP = [{'classifier': [MLPClassifier(max_iter=1000, random_state=3)],\n",
    "      'classifier__hidden_layer_sizes': [(5,),(10,)], 'classifier__activation': ['tanh', 'relu'],\n",
    "    'classifier__solver': ['sgd', 'adam'],'classifier__alpha': [0.0001, 0.05],\n",
    "              'classifier__learning_rate': ['constant','adaptive']}]\n",
    "\n",
    "gridMLP = GridSearchCV(pipe, param_grid = param_grid_MLP, scoring='roc_auc', cv=5)\n",
    "gridMLP.fit(X_train_res, y_train_res)\n",
    "\n",
    "print(\"Best params:\\n{}\\n\".format(gridMLP.best_params_))\n",
    "print(\"Best cross-validation score: {:.5f}\".format(gridMLP.best_score_))\n",
    "print(\"Test-set score: {:.5f}\".format(gridMLP.score(X_test, y_test)))"
   ]
  },
  {
   "cell_type": "code",
   "execution_count": 38,
   "metadata": {},
   "outputs": [],
   "source": [
    "y_pred = gridMLP.predict(X_test)\n",
    "cm = confusion_matrix(y_test, y_pred)\n",
    "accuracy=accuracy_score(y_test,y_pred)"
   ]
  },
  {
   "cell_type": "code",
   "execution_count": 39,
   "metadata": {},
   "outputs": [
    {
     "data": {
      "text/plain": [
       "0.742"
      ]
     },
     "execution_count": 39,
     "metadata": {},
     "output_type": "execute_result"
    }
   ],
   "source": [
    "accuracy"
   ]
  },
  {
   "cell_type": "markdown",
   "metadata": {},
   "source": [
    "The below figure shows the boxplot for the complete data set based on cross validation score. \n",
    "When cross validated against the whole dataset, we received the training and test score as shown below. The box plot shows the distribution of scores, the training score mostly lies around 0.836, whereas the test score lies between 0.83 and 0.832. The train scores and test scores have about similar scores "
   ]
  },
  {
   "cell_type": "code",
   "execution_count": 40,
   "metadata": {},
   "outputs": [
    {
     "data": {
      "text/plain": [
       "<matplotlib.axes._subplots.AxesSubplot at 0x7fe856bce7f0>"
      ]
     },
     "execution_count": 40,
     "metadata": {},
     "output_type": "execute_result"
    },
    {
     "data": {
      "image/png": "[encoded data removed]",
      "text/plain": [
       "<Figure size 432x288 with 1 Axes>"
      ]
     },
     "metadata": {
      "needs_background": "light"
     },
     "output_type": "display_data"
    }
   ],
   "source": [
    "df_scores_MLP = cross_validate(gridMLP, X, y, scoring='roc_auc', cv=5, return_train_score=True)\n",
    "df_scores_MLP = pd.DataFrame(df_scores_MLP)\n",
    "df_scores_MLP[['train_score', 'test_score']].boxplot()"
   ]
  },
  {
   "cell_type": "code",
   "execution_count": 41,
   "metadata": {},
   "outputs": [
    {
     "data": {
      "text/html": [
       "<div>\n",
       "<style scoped>\n",
       "    .dataframe tbody tr th:only-of-type {\n",
       "        vertical-align: middle;\n",
       "    }\n",
       "\n",
       "    .dataframe tbody tr th {\n",
       "        vertical-align: top;\n",
       "    }\n",
       "\n",
       "    .dataframe thead th {\n",
       "        text-align: right;\n",
       "    }\n",
       "</style>\n",
       "<table border=\"1\" class=\"dataframe\">\n",
       "  <thead>\n",
       "    <tr style=\"text-align: right;\">\n",
       "      <th></th>\n",
       "      <th>train_score</th>\n",
       "      <th>test_score</th>\n",
       "    </tr>\n",
       "  </thead>\n",
       "  <tbody>\n",
       "    <tr>\n",
       "      <th>0</th>\n",
       "      <td>0.837430</td>\n",
       "      <td>0.831828</td>\n",
       "    </tr>\n",
       "    <tr>\n",
       "      <th>1</th>\n",
       "      <td>0.836364</td>\n",
       "      <td>0.832055</td>\n",
       "    </tr>\n",
       "    <tr>\n",
       "      <th>2</th>\n",
       "      <td>0.837289</td>\n",
       "      <td>0.829427</td>\n",
       "    </tr>\n",
       "    <tr>\n",
       "      <th>3</th>\n",
       "      <td>0.836010</td>\n",
       "      <td>0.835615</td>\n",
       "    </tr>\n",
       "    <tr>\n",
       "      <th>4</th>\n",
       "      <td>0.837504</td>\n",
       "      <td>0.828081</td>\n",
       "    </tr>\n",
       "  </tbody>\n",
       "</table>\n",
       "</div>"
      ],
      "text/plain": [
       "   train_score  test_score\n",
       "0     0.837430    0.831828\n",
       "1     0.836364    0.832055\n",
       "2     0.837289    0.829427\n",
       "3     0.836010    0.835615\n",
       "4     0.837504    0.828081"
      ]
     },
     "execution_count": 41,
     "metadata": {},
     "output_type": "execute_result"
    }
   ],
   "source": [
    "df_scores_MLP[['train_score', 'test_score']]"
   ]
  },
  {
   "cell_type": "markdown",
   "metadata": {},
   "source": [
    "#####  LGBM"
   ]
  },
  {
   "cell_type": "markdown",
   "metadata": {},
   "source": [
    "Tuning the num_leaves and learning rate, while fixing the maximum depth."
   ]
  },
  {
   "cell_type": "code",
   "execution_count": 22,
   "metadata": {},
   "outputs": [
    {
     "name": "stdout",
     "output_type": "stream",
     "text": [
      "Best params:\n",
      "{'classifier': LGBMClassifier(learning_rate=0.3, max_depth=7, metric='auc', num_leaves=150,\n",
      "               objective='binary', random_state=3), 'classifier__learning_rate': 0.3, 'classifier__max_depth': 7, 'classifier__metric': 'auc', 'classifier__num_leaves': 150, 'classifier__objective': 'binary'}\n",
      "\n",
      "Best cross-validation score: 0.8887\n",
      "Test-set score: 0.79\n"
     ]
    }
   ],
   "source": [
    "param_grid = [{'classifier': [LGBMClassifier(random_state=3)],\n",
    "      'classifier__num_leaves': [50,100,150, 200], 'classifier__max_depth': [7],\n",
    "      'classifier__learning_rate': [0.1,0.2,0.3,0.6,0.8],'classifier__objective': ['binary'],\n",
    "      'classifier__metric' : ['auc']}]\n",
    "\n",
    "gridLGBM = GridSearchCV(pipe, param_grid, scoring='roc_auc', cv=5)\n",
    "gridLGBM.fit(X_train_res, y_train_res)\n",
    "\n",
    "print(\"Best params:\\n{}\\n\".format(gridLGBM.best_params_))\n",
    "print(\"Best cross-validation score: {:.4f}\".format(gridLGBM.best_score_))\n",
    "print(\"Test-set score: {:.2f}\".format(gridLGBM.score(X_test, y_test)))"
   ]
  },
  {
   "cell_type": "markdown",
   "metadata": {},
   "source": [
    "Collecting all the cross validation scores for the above combination of learning rate and gamma"
   ]
  },
  {
   "cell_type": "code",
   "execution_count": 23,
   "metadata": {
    "scrolled": true
   },
   "outputs": [
    {
     "data": {
      "text/plain": [
       "array([[0.87750654, 0.8784068 , 0.8784068 , 0.8784068 ],\n",
       "       [0.88619904, 0.88515732, 0.88515732, 0.88515732],\n",
       "       [0.88668861, 0.88865771, 0.88867508, 0.88867508],\n",
       "       [0.88642134, 0.88432261, 0.88432261, 0.88432261],\n",
       "       [0.88410623, 0.88559094, 0.88559094, 0.88559094]])"
      ]
     },
     "execution_count": 23,
     "metadata": {},
     "output_type": "execute_result"
    }
   ],
   "source": [
    "df_grid_LGBM = pd.DataFrame(gridLGBM.cv_results_)\n",
    "scores_LGBM = np.array(df_grid_LGBM.mean_test_score).reshape(5,4)\n",
    "scores_LGBM"
   ]
  },
  {
   "cell_type": "markdown",
   "metadata": {},
   "source": [
    "Heatmap showing the best combination of the above params"
   ]
  },
  {
   "cell_type": "code",
   "execution_count": 24,
   "metadata": {},
   "outputs": [
    {
     "data": {
      "text/plain": [
       "<matplotlib.collections.PolyCollection at 0x7fcd16626f10>"
      ]
     },
     "execution_count": 24,
     "metadata": {},
     "output_type": "execute_result"
    },
    {
     "data": {
      "image/png": "[encoded data removed]",
      "text/plain": [
       "<Figure size 432x288 with 1 Axes>"
      ]
     },
     "metadata": {
      "needs_background": "light"
     },
     "output_type": "display_data"
    }
   ],
   "source": [
    "mglearn.tools.heatmap(scores_LGBM, ylabel='learning_rate', yticklabels=param_grid[0]['classifier__learning_rate'],\n",
    "                      xlabel='num_leaves', xticklabels=param_grid[0]['classifier__num_leaves'], \n",
    "                      cmap=\"viridis\", fmt='%0.4f')"
   ]
  },
  {
   "cell_type": "markdown",
   "metadata": {},
   "source": [
    "Boxplot of the complete data set based on cross validation score"
   ]
  },
  {
   "cell_type": "code",
   "execution_count": 25,
   "metadata": {},
   "outputs": [
    {
     "data": {
      "text/plain": [
       "<AxesSubplot:>"
      ]
     },
     "execution_count": 25,
     "metadata": {},
     "output_type": "execute_result"
    },
    {
     "data": {
      "image/png": "[encoded data removed]",
      "text/plain": [
       "<Figure size 432x288 with 1 Axes>"
      ]
     },
     "metadata": {
      "needs_background": "light"
     },
     "output_type": "display_data"
    }
   ],
   "source": [
    "df_scores_LGBM = cross_validate(gridLGBM, X, y, scoring='roc_auc', cv=5, return_train_score=True)\n",
    "df_scores_LGBM = pd.DataFrame(df_scores_LGBM)\n",
    "df_scores_LGBM[['train_score', 'test_score']].boxplot()"
   ]
  },
  {
   "cell_type": "code",
   "execution_count": 26,
   "metadata": {},
   "outputs": [
    {
     "data": {
      "text/html": [
       "<div>\n",
       "<style scoped>\n",
       "    .dataframe tbody tr th:only-of-type {\n",
       "        vertical-align: middle;\n",
       "    }\n",
       "\n",
       "    .dataframe tbody tr th {\n",
       "        vertical-align: top;\n",
       "    }\n",
       "\n",
       "    .dataframe thead th {\n",
       "        text-align: right;\n",
       "    }\n",
       "</style>\n",
       "<table border=\"1\" class=\"dataframe\">\n",
       "  <thead>\n",
       "    <tr style=\"text-align: right;\">\n",
       "      <th></th>\n",
       "      <th>train_score</th>\n",
       "      <th>test_score</th>\n",
       "    </tr>\n",
       "  </thead>\n",
       "  <tbody>\n",
       "    <tr>\n",
       "      <th>0</th>\n",
       "      <td>0.941470</td>\n",
       "      <td>0.818503</td>\n",
       "    </tr>\n",
       "    <tr>\n",
       "      <th>1</th>\n",
       "      <td>0.946963</td>\n",
       "      <td>0.817176</td>\n",
       "    </tr>\n",
       "    <tr>\n",
       "      <th>2</th>\n",
       "      <td>0.949709</td>\n",
       "      <td>0.825798</td>\n",
       "    </tr>\n",
       "    <tr>\n",
       "      <th>3</th>\n",
       "      <td>0.946547</td>\n",
       "      <td>0.825591</td>\n",
       "    </tr>\n",
       "    <tr>\n",
       "      <th>4</th>\n",
       "      <td>0.946704</td>\n",
       "      <td>0.818372</td>\n",
       "    </tr>\n",
       "  </tbody>\n",
       "</table>\n",
       "</div>"
      ],
      "text/plain": [
       "   train_score  test_score\n",
       "0     0.941470    0.818503\n",
       "1     0.946963    0.817176\n",
       "2     0.949709    0.825798\n",
       "3     0.946547    0.825591\n",
       "4     0.946704    0.818372"
      ]
     },
     "execution_count": 26,
     "metadata": {},
     "output_type": "execute_result"
    }
   ],
   "source": [
    "df_scores_LGBM[['train_score', 'test_score']]"
   ]
  },
  {
   "cell_type": "markdown",
   "metadata": {},
   "source": [
    "When cross validated against the whole dataset, we received the training and test score as shown above. The box plot shows the distribution of scores with the training score mostly lies around 0.94, whereas the test score lies around 0.82. The train scores and test scores have about 12% difference on average."
   ]
  },
  {
   "cell_type": "code",
   "execution_count": 27,
   "metadata": {},
   "outputs": [
    {
     "name": "stdout",
     "output_type": "stream",
     "text": [
      "Best cross-validation score: 0.89\n",
      "Test-set score: 0.79\n"
     ]
    }
   ],
   "source": [
    "print(\"Best cross-validation score: {:.2f}\".format(gridLGBM.best_score_))\n",
    "print(\"Test-set score: {:.2f}\".format(gridLGBM.score(X_test, y_test)))"
   ]
  },
  {
   "cell_type": "markdown",
   "metadata": {},
   "source": [
    "#####  XGB Classifier"
   ]
  },
  {
   "cell_type": "markdown",
   "metadata": {},
   "source": [
    "Tuning various parameters in XGBoost"
   ]
  },
  {
   "cell_type": "code",
   "execution_count": 22,
   "metadata": {},
   "outputs": [
    {
     "name": "stdout",
     "output_type": "stream",
     "text": [
      "Best params:\n",
      "{'classifier': XGBClassifier(base_score=None, booster='gbtree', colsample_bylevel=None,\n",
      "              colsample_bynode=None, colsample_bytree=None, eval_metric='auc',\n",
      "              gamma=0.2, gpu_id=None, importance_type='gain',\n",
      "              interaction_constraints=None, learning_rate=0.15,\n",
      "              max_delta_step=None, max_depth=7, min_child_weight=1, missing=nan,\n",
      "              monotone_constraints=None, n_estimators=300, n_jobs=None,\n",
      "              num_parallel_tree=None, random_state=3, reg_alpha=None,\n",
      "              reg_lambda=None, scale_pos_weight=None, subsample=None,\n",
      "              tree_method=None, use_label_encoder=False,\n",
      "              validate_parameters=None, verbosity=None), 'classifier__gamma': 0.2, 'classifier__learning_rate': 0.15, 'classifier__max_depth': 7, 'classifier__min_child_weight': 1, 'classifier__n_estimators': 300}\n",
      "\n",
      "Best cross-validation score: 0.90\n",
      "Test-set score: 0.80\n"
     ]
    }
   ],
   "source": [
    "param_grid = [{'classifier': [XGBClassifier(use_label_encoder=False, random_state=3, booster='gbtree',\n",
    "                eval_metric='auc')],'classifier__n_estimators': [200,300], \n",
    "               'classifier__max_depth': [5, 7],'classifier__learning_rate': [0.10,0.15],\n",
    "               'classifier__min_child_weight': [1, 3], 'classifier__gamma':[0.1,0.2,0.3]}]\n",
    "\n",
    "gridXGB = GridSearchCV(pipe, param_grid, scoring='roc_auc', cv=5)\n",
    "gridXGB.fit(X_train_res, y_train_res)\n",
    "\n",
    "print(\"Best params:\\n{}\\n\".format(gridXGB.best_params_))\n",
    "print(\"Best cross-validation score: {:.2f}\".format(gridXGB.best_score_))\n",
    "print(\"Test-set score: {:.2f}\".format(gridXGB.score(X_test, y_test)))"
   ]
  },
  {
   "cell_type": "markdown",
   "metadata": {},
   "source": [
    "Checking whether increasing/ decreasing learning rate and gamma have any impact on the cross-validation score"
   ]
  },
  {
   "cell_type": "code",
   "execution_count": 27,
   "metadata": {},
   "outputs": [
    {
     "name": "stdout",
     "output_type": "stream",
     "text": [
      "Best params:\n",
      "{'classifier': XGBClassifier(base_score=None, booster='gbtree', colsample_bylevel=None,\n",
      "              colsample_bynode=None, colsample_bytree=None, eval_metric='auc',\n",
      "              gamma=0.1, gpu_id=None, importance_type='gain',\n",
      "              interaction_constraints=None, learning_rate=0.3,\n",
      "              max_delta_step=None, max_depth=7, min_child_weight=1, missing=nan,\n",
      "              monotone_constraints=None, n_estimators=200, n_jobs=None,\n",
      "              num_parallel_tree=None, random_state=3, reg_alpha=None,\n",
      "              reg_lambda=None, scale_pos_weight=None, subsample=None,\n",
      "              tree_method=None, use_label_encoder=False,\n",
      "              validate_parameters=None, verbosity=None), 'classifier__gamma': 0.1, 'classifier__learning_rate': 0.3}\n",
      "\n"
     ]
    }
   ],
   "source": [
    "param_grid = [{'classifier': [XGBClassifier(use_label_encoder=False, random_state=3, \n",
    "                max_depth=7, min_child_weight=1, n_estimators=200, booster='gbtree', eval_metric='auc')],\n",
    "                'classifier__learning_rate': [0.10, 0.15, 0.3, 1.0], \n",
    "                'classifier__gamma':[0.0001, 0.1, 0.3, 0.5]}]\n",
    "    \n",
    "\n",
    "gridXGB = GridSearchCV(pipe, param_grid, scoring='roc_auc', cv=5)\n",
    "gridXGB.fit(X_train_res, y_train_res)\n",
    "\n",
    "print(\"Best params:\\n{}\\n\".format(gridXGB.best_params_))"
   ]
  },
  {
   "cell_type": "markdown",
   "metadata": {},
   "source": [
    "Collecting all the cross validation scores for the above combination of learning rate and gamma"
   ]
  },
  {
   "cell_type": "code",
   "execution_count": 29,
   "metadata": {},
   "outputs": [
    {
     "data": {
      "text/plain": [
       "array([[0.88458815, 0.88962076, 0.89778051, 0.89748336],\n",
       "       [0.88490681, 0.88939415, 0.89805216, 0.89309811],\n",
       "       [0.88583005, 0.89165714, 0.89656258, 0.88582673],\n",
       "       [0.88415484, 0.89022862, 0.8939277 , 0.88205469]])"
      ]
     },
     "execution_count": 29,
     "metadata": {},
     "output_type": "execute_result"
    }
   ],
   "source": [
    "df_grid = pd.DataFrame(gridXGB.cv_results_)\n",
    "df_grid.mean_test_score\n",
    "\n",
    "scores_XGB = np.array(df_grid.mean_test_score).reshape(4, 4)\n",
    "scores_XGB"
   ]
  },
  {
   "cell_type": "markdown",
   "metadata": {},
   "source": [
    "Drawing the heatmap showing the best combination of the above params"
   ]
  },
  {
   "cell_type": "markdown",
   "metadata": {},
   "source": [
    "Going forward we wanted to study the impact of changing gamma and learning rate. So, we plotted the heat map of gamma versus learning rate. Increasing or decreasing either of them decreases the test set score.We get the best test score for learning rate=0.3 and \n",
    "gamma=0.1"
   ]
  },
  {
   "cell_type": "code",
   "execution_count": 30,
   "metadata": {},
   "outputs": [
    {
     "data": {
      "text/plain": [
       "<matplotlib.collections.PolyCollection at 0x7fe8569bf640>"
      ]
     },
     "execution_count": 30,
     "metadata": {},
     "output_type": "execute_result"
    },
    {
     "data": {
      "image/png": "[encoded data removed]",
      "text/plain": [
       "<Figure size 432x288 with 1 Axes>"
      ]
     },
     "metadata": {
      "needs_background": "light"
     },
     "output_type": "display_data"
    }
   ],
   "source": [
    "mglearn.tools.heatmap(scores_XGB, xlabel='learning_rate', xticklabels=param_grid[0]['classifier__learning_rate'],\n",
    "                      ylabel='gamma', yticklabels=param_grid[0]['classifier__gamma'], \n",
    "                      cmap=\"viridis\", fmt='%0.4f')"
   ]
  },
  {
   "cell_type": "markdown",
   "metadata": {},
   "source": [
    "The below figure shows the boxplot for the complete data set based on cross validation score "
   ]
  },
  {
   "cell_type": "code",
   "execution_count": 31,
   "metadata": {},
   "outputs": [
    {
     "data": {
      "text/plain": [
       "<matplotlib.axes._subplots.AxesSubplot at 0x7fe85695d430>"
      ]
     },
     "execution_count": 31,
     "metadata": {},
     "output_type": "execute_result"
    },
    {
     "data": {
      "image/png": "[encoded data removed]",
      "text/plain": [
       "<Figure size 432x288 with 1 Axes>"
      ]
     },
     "metadata": {
      "needs_background": "light"
     },
     "output_type": "display_data"
    }
   ],
   "source": [
    "df_scores_XGB = cross_validate(gridXGB, X, y, scoring='roc_auc', cv=5, return_train_score=True)\n",
    "df_scores_XGB = pd.DataFrame(df_scores_XGB)\n",
    "df_scores_XGB[['train_score', 'test_score']].boxplot()"
   ]
  },
  {
   "cell_type": "code",
   "execution_count": 32,
   "metadata": {},
   "outputs": [
    {
     "data": {
      "text/html": [
       "<div>\n",
       "<style scoped>\n",
       "    .dataframe tbody tr th:only-of-type {\n",
       "        vertical-align: middle;\n",
       "    }\n",
       "\n",
       "    .dataframe tbody tr th {\n",
       "        vertical-align: top;\n",
       "    }\n",
       "\n",
       "    .dataframe thead th {\n",
       "        text-align: right;\n",
       "    }\n",
       "</style>\n",
       "<table border=\"1\" class=\"dataframe\">\n",
       "  <thead>\n",
       "    <tr style=\"text-align: right;\">\n",
       "      <th></th>\n",
       "      <th>train_score</th>\n",
       "      <th>test_score</th>\n",
       "    </tr>\n",
       "  </thead>\n",
       "  <tbody>\n",
       "    <tr>\n",
       "      <th>0</th>\n",
       "      <td>0.978801</td>\n",
       "      <td>0.812676</td>\n",
       "    </tr>\n",
       "    <tr>\n",
       "      <th>1</th>\n",
       "      <td>0.974347</td>\n",
       "      <td>0.803401</td>\n",
       "    </tr>\n",
       "    <tr>\n",
       "      <th>2</th>\n",
       "      <td>0.974745</td>\n",
       "      <td>0.819445</td>\n",
       "    </tr>\n",
       "    <tr>\n",
       "      <th>3</th>\n",
       "      <td>0.976368</td>\n",
       "      <td>0.816229</td>\n",
       "    </tr>\n",
       "    <tr>\n",
       "      <th>4</th>\n",
       "      <td>0.972403</td>\n",
       "      <td>0.810979</td>\n",
       "    </tr>\n",
       "  </tbody>\n",
       "</table>\n",
       "</div>"
      ],
      "text/plain": [
       "   train_score  test_score\n",
       "0     0.978801    0.812676\n",
       "1     0.974347    0.803401\n",
       "2     0.974745    0.819445\n",
       "3     0.976368    0.816229\n",
       "4     0.972403    0.810979"
      ]
     },
     "execution_count": 32,
     "metadata": {},
     "output_type": "execute_result"
    }
   ],
   "source": [
    "df_scores_XGB[['train_score', 'test_score']]"
   ]
  },
  {
   "cell_type": "markdown",
   "metadata": {},
   "source": [
    "When cross validated against the whole dataset, we received the training and test score as shown above. The box plot shows the distribution of scores, the training score mostly lies around 0.97, whereas the test score lies around 0.81. The train scores and test scores have about 16% difference on average. "
   ]
  },
  {
   "cell_type": "code",
   "execution_count": 33,
   "metadata": {},
   "outputs": [
    {
     "name": "stdout",
     "output_type": "stream",
     "text": [
      "Best cross-validation score: 0.90\n",
      "Test-set score: 0.79\n"
     ]
    }
   ],
   "source": [
    "print(\"Best cross-validation score: {:.2f}\".format(gridXGB.best_score_))\n",
    "print(\"Test-set score: {:.2f}\".format(gridXGB.score(X_test, y_test)))"
   ]
  },
  {
   "cell_type": "markdown",
   "metadata": {},
   "source": [
    "The best parameters out of these combinations with learning rate=0.15 and gamma=0.03 as well as the test set score as 0.80.\n"
   ]
  },
  {
   "cell_type": "code",
   "execution_count": null,
   "metadata": {},
   "outputs": [],
   "source": []
  },
  {
   "cell_type": "markdown",
   "metadata": {},
   "source": [
    "#### Best model computed by pipe:"
   ]
  },
  {
   "cell_type": "code",
   "execution_count": 34,
   "metadata": {},
   "outputs": [
    {
     "name": "stdout",
     "output_type": "stream",
     "text": [
      "Best params:\n",
      "{'classifier': XGBClassifier(base_score=None, booster='gbtree', colsample_bylevel=None,\n",
      "              colsample_bynode=None, colsample_bytree=None, eval_metric='auc',\n",
      "              gamma=0.1, gpu_id=None, importance_type='gain',\n",
      "              interaction_constraints=None, learning_rate=0.3,\n",
      "              max_delta_step=None, max_depth=7, min_child_weight=1, missing=nan,\n",
      "              monotone_constraints=None, n_estimators=200, n_jobs=None,\n",
      "              num_parallel_tree=None, random_state=3, reg_alpha=None,\n",
      "              reg_lambda=None, scale_pos_weight=None, subsample=None,\n",
      "              tree_method=None, use_label_encoder=False,\n",
      "              validate_parameters=None, verbosity=None)}\n",
      "\n",
      "Best cross-validation score: 0.90\n",
      "Test-set score: 0.79\n"
     ]
    }
   ],
   "source": [
    "pipe_num = make_pipeline(SimpleImputer(strategy='mean'), StandardScaler())\n",
    "preprocessor = make_column_transformer((pipe_num, col_num))\n",
    "\n",
    "param_grid = [{'classifier': [XGBClassifier(use_label_encoder=False, random_state=3, \n",
    "                 booster='gbtree', eval_metric='auc', min_child_weight=1, n_estimators=200,\n",
    "                 max_depth=7, gamma=0.1, learning_rate=0.3)]},\n",
    "              {'classifier': [LGBMClassifier(max_depth=7, metric='auc', num_leaves=150, objective='binary',\n",
    "                   random_state=3, learning_rate=0.3)]},\n",
    "              {'classifier': [MLPClassifier(max_iter=1000, random_state=3,hidden_layer_sizes=(10,),\n",
    "                             activation='relu', solver='adam', alpha=0.0001, learning_rate='constant' )]},\n",
    "              {'classifier': [GradientBoostingClassifier(random_state=3, n_estimators=30, max_depth=4)]},\n",
    "              {'classifier': [SVC(random_state=3, C=0.01, gamma=10)]}              \n",
    "             ]\n",
    "\n",
    "gridFinal = GridSearchCV(pipe, param_grid, scoring='roc_auc', cv=5)\n",
    "gridFinal.fit(X_train_res, y_train_res)\n",
    "\n",
    "print(\"Best params:\\n{}\\n\".format(gridFinal.best_params_))\n",
    "print(\"Best cross-validation score: {:.2f}\".format(gridFinal.best_score_))\n",
    "print(\"Test-set score: {:.2f}\".format(gridFinal.score(X_test, y_test)))"
   ]
  },
  {
   "cell_type": "markdown",
   "metadata": {},
   "source": [
    "### As multiple classifiers has test score in the range of 0.79, we took the best params from each model and arrived at the best model through grid search.\n",
    "### In our case, XGBoost came out to be the best model.\n"
   ]
  }
 ],
 "metadata": {
  "kernelspec": {
   "display_name": "Python 3",
   "language": "python",
   "name": "python3"
  },
  "language_info": {
   "codemirror_mode": {
    "name": "ipython",
    "version": 3
   },
   "file_extension": ".py",
   "mimetype": "text/x-python",
   "name": "python",
   "nbconvert_exporter": "python",
   "pygments_lexer": "ipython3",
   "version": "3.8.3"
  }
 },
 "nbformat": 4,
 "nbformat_minor": 4
}
